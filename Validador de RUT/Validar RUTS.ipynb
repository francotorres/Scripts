{
 "cells": [
  {
   "cell_type": "code",
   "execution_count": null,
   "metadata": {},
   "outputs": [],
   "source": [
    "import pandas as pd\n",
    "import numpy as np\n",
    "import csv\n",
    "from rut import validar_rut\n",
    "import os.path"
   ]
  },
  {
   "cell_type": "code",
   "execution_count": null,
   "metadata": {},
   "outputs": [],
   "source": [
    "archivo='' \"\"\"Ruta del archivo CSV, Excel o TXT con los RUT a validar\"\"\"\n",
    "df = pd.read_csv(archivo, sep=';', encoding='cp1252') \"\"\"Cambiar el encoding segun la codificacion del archivo\"\"\"\n",
    "cabeceras = df.columns \"\"\"Almacenar las cabecers para ocuparlas en la creacion de los otros arcchivos\"\"\"\n"
   ]
  },
  {
   "cell_type": "code",
   "execution_count": null,
   "metadata": {},
   "outputs": [],
   "source": [
    "df.info()\"\"\"Informacion sobre el dataframe \"\"\""
   ]
  },
  {
   "cell_type": "code",
   "execution_count": null,
   "metadata": {},
   "outputs": [],
   "source": [
    "df[\"NRO_REGISTRO\"] = df[\"NRO_REGISTRO\"].fillna(0).astype(str)\n",
    "df[\"RUT\"] = df[\"RUT\"].astype(str)\"\"\"Seleccionar la columna con los RUT y trasnformar en tipo String\"\"\""
   ]
  },
  {
   "cell_type": "code",
   "execution_count": null,
   "metadata": {},
   "outputs": [],
   "source": [
    "df.info()\"\"\"Verificamos la transformacion\"\"\""
   ]
  },
  {
   "cell_type": "code",
   "execution_count": null,
   "metadata": {},
   "outputs": [],
   "source": [
    "print(df.dtypes)"
   ]
  },
  {
   "cell_type": "code",
   "execution_count": null,
   "metadata": {},
   "outputs": [],
   "source": [
    "#Cramos los dataframe para alamcenar las filas segun el tipo de RUT\n",
    "ruts_validos = pd.DataFrame()\n",
    "ruts_no_validos = pd.DataFrame()\n",
    "ruts_sin_formato = pd.DataFrame()\n",
    "sin_rut = pd.DataFrame()\n",
    "value_error = pd.DataFrame()\n",
    "verdadero = []\n",
    "falso = []\n",
    "sinformato = []\n",
    "sinrut = []\n",
    "valueerror = []\n",
    "#Recorremos el dataframe que contiene los RUT\n",
    "for i,row in df.iterrows():\n",
    "    try:\n",
    "        rut = str(row[5])\n",
    "        if rut != 'nan':\n",
    "            if (rut.find('-') !=-1):\n",
    "                if validar_rut(rut) == True:\n",
    "                    print(row[0], end='\\r')\n",
    "                    datos = list(row.values)\n",
    "                    verdadero.append(datos)\n",
    "                else:\n",
    "                    print(row[0], end='\\r')\n",
    "                    datos = list(row.values)\n",
    "                    falso.append(datos)\n",
    "            else:\n",
    "                datos = list(row.values)\n",
    "                sinformato.append(datos)\n",
    "        else:\n",
    "            print(row[0], end='\\r')\n",
    "            datos = list(row.values)\n",
    "            sinrut.append(datos)\n",
    "    except ValueError:\n",
    "        datos = list(row.values)\n",
    "        valueerror.append(datos)\n",
    "        pass\n",
    "      \n",
    "print(\"Creando los archivos...\")\n",
    "ruts_validos=pd.DataFrame(verdadero, columns=cabeceras)\n",
    "ruts_no_validos=pd.DataFrame(falso, columns=cabeceras)\n",
    "ruts_sin_formato=pd.DataFrame(sinformato, columns=cabeceras)\n",
    "sin_rut=pd.DataFrame(sinrut, columns=cabeceras)\n",
    "ruts_validos.to_csv('ruts_validos.csv', index=False)\n",
    "ruts_no_validos.to_csv('ruts_no_validos.csv', index=False)\n",
    "ruts_sin_formato.to_csv('ruts_sin_formato.csv', index=False)\n",
    "sin_rut.to_csv('sin_rut.csv', index=False)\n",
    "value_error=pd.DataFrame(valueerror, columns=cabeceras)\n",
    "value_error.to_csv('valueerror.csv', index=False)\n",
    "print(\"Validacion finalizada\")"
   ]
  },
  {
   "cell_type": "code",
   "execution_count": null,
   "metadata": {},
   "outputs": [],
   "source": [
    "ruts_validos=pd.DataFrame(verdadero, columns=cabeceras)\n",
    "ruts_no_validos=pd.DataFrame(falso, columns=cabeceras)\n",
    "ruts_sin_formato=pd.DataFrame(sinformato, columns=cabeceras)\n",
    "sin_rut=pd.DataFrame(sinrut, columns=cabeceras)\n",
    "ruts_validos.to_csv('ruts_validos.csv', index=False)\n",
    "ruts_no_validos.to_csv('ruts_no_validos.csv', index=False)\n",
    "ruts_sin_formato.to_csv('ruts_sin_formato.csv', index=False)\n",
    "sin_rut.to_csv('sin_rut.csv', index=False)"
   ]
  },
  {
   "cell_type": "code",
   "execution_count": null,
   "metadata": {},
   "outputs": [],
   "source": []
  }
 ],
 "metadata": {
  "kernelspec": {
   "display_name": "Python 3",
   "language": "python",
   "name": "python3"
  },
  "language_info": {
   "codemirror_mode": {
    "name": "ipython",
    "version": 3
   },
   "file_extension": ".py",
   "mimetype": "text/x-python",
   "name": "python",
   "nbconvert_exporter": "python",
   "pygments_lexer": "ipython3",
   "version": "3.7.10"
  }
 },
 "nbformat": 4,
 "nbformat_minor": 4
}
